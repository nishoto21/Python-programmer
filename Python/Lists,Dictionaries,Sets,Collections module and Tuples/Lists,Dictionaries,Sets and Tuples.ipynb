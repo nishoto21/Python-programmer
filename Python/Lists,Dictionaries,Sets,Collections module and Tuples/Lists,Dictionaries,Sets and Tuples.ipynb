{
 "cells": [
  {
   "cell_type": "markdown",
   "id": "c898d33f",
   "metadata": {},
   "source": [
    "# LISTS(Mutable)"
   ]
  },
  {
   "cell_type": "code",
   "execution_count": 78,
   "id": "84eb1184",
   "metadata": {},
   "outputs": [
    {
     "data": {
      "text/plain": [
       "['Ximena', 'Aliza', 'Ayden', 'Calvin']"
      ]
     },
     "execution_count": 78,
     "metadata": {},
     "output_type": "execute_result"
    }
   ],
   "source": [
    "baby_names = ['Ximena', 'Aliza', 'Ayden', 'Calvin']\n",
    "baby_names"
   ]
  },
  {
   "cell_type": "code",
   "execution_count": 79,
   "id": "8bcaea9d",
   "metadata": {},
   "outputs": [
    {
     "data": {
      "text/plain": [
       "['Ximena', 'Aliza', 'Ayden', 'Calvin', 'Rowen', 'Sandeep']"
      ]
     },
     "execution_count": 79,
     "metadata": {},
     "output_type": "execute_result"
    }
   ],
   "source": [
    "baby_names.extend(['Rowen', 'Sandeep'])\n",
    "baby_names"
   ]
  },
  {
   "cell_type": "code",
   "execution_count": 80,
   "id": "e24ca0fd",
   "metadata": {},
   "outputs": [
    {
     "data": {
      "text/plain": [
       "1"
      ]
     },
     "execution_count": 80,
     "metadata": {},
     "output_type": "execute_result"
    }
   ],
   "source": [
    "position = baby_names.index('Aliza')\n",
    "position"
   ]
  },
  {
   "cell_type": "code",
   "execution_count": 81,
   "id": "5a1dac18",
   "metadata": {},
   "outputs": [
    {
     "data": {
      "text/plain": [
       "['Ximena', 'Ayden', 'Calvin', 'Rowen', 'Sandeep']"
      ]
     },
     "execution_count": 81,
     "metadata": {},
     "output_type": "execute_result"
    }
   ],
   "source": [
    "baby_names.pop(position)\n",
    "baby_names"
   ]
  },
  {
   "cell_type": "code",
   "execution_count": 82,
   "id": "ec73609c",
   "metadata": {},
   "outputs": [],
   "source": [
    "names = ['Shreya','Rewa','Burad','Reeya','Neha','Alisha','Nishant','Pushkar','Tambat','Saurav','Tanishq']"
   ]
  },
  {
   "cell_type": "code",
   "execution_count": 83,
   "id": "578e1343",
   "metadata": {},
   "outputs": [],
   "source": [
    "baby_name = []"
   ]
  },
  {
   "cell_type": "code",
   "execution_count": 84,
   "id": "d3ce397b",
   "metadata": {},
   "outputs": [],
   "source": [
    "for row in names:\n",
    "    baby_name.append(row)"
   ]
  },
  {
   "cell_type": "code",
   "execution_count": 85,
   "id": "7b96b1df",
   "metadata": {},
   "outputs": [
    {
     "name": "stdout",
     "output_type": "stream",
     "text": [
      "Alisha\n",
      "Burad\n",
      "Neha\n",
      "Nishant\n",
      "Pushkar\n",
      "Reeya\n",
      "Rewa\n",
      "Saurav\n",
      "Shreya\n",
      "Tambat\n",
      "Tanishq\n"
     ]
    }
   ],
   "source": [
    "for name in sorted(baby_name):\n",
    "    print(name)"
   ]
  },
  {
   "cell_type": "markdown",
   "id": "485995f3",
   "metadata": {},
   "source": [
    "# TUPLES (for immutable and ordered data)"
   ]
  },
  {
   "cell_type": "code",
   "execution_count": 86,
   "id": "98654803",
   "metadata": {},
   "outputs": [],
   "source": [
    "girl_names = ['Shreya','Rewa','Burad','Reeya','Neha','Alisha']\n",
    "boy_names  = ['Nishant','Pushkar','Tambat','Saurav','Tanishq']"
   ]
  },
  {
   "cell_type": "code",
   "execution_count": 87,
   "id": "a9a2cf99",
   "metadata": {},
   "outputs": [],
   "source": [
    "#Often you'll want to pair up multiple array data types. The zip() function does just that.\n",
    "#It will return a list of tuples containing one element from each list passed into zip().\n",
    "\n",
    "pairs = zip(girl_names,boy_names)"
   ]
  },
  {
   "cell_type": "code",
   "execution_count": 88,
   "id": "5edc4906",
   "metadata": {},
   "outputs": [
    {
     "name": "stdout",
     "output_type": "stream",
     "text": [
      "Rank 0: Shreya and Nishant\n",
      "Rank 1: Rewa and Pushkar\n",
      "Rank 2: Burad and Tambat\n",
      "Rank 3: Reeya and Saurav\n",
      "Rank 4: Neha and Tanishq\n"
     ]
    }
   ],
   "source": [
    "#When looping over a list, you can also track your position in the list by using the enumerate() function.\n",
    "#The function returns the index of the list item you are currently on in the list and the list item itself.\n",
    "\n",
    "for idx,pair in enumerate(pairs):\n",
    "    girl_name,boy_name = pair\n",
    "    print('Rank {}: {} and {}'.format(idx, girl_name, boy_name))"
   ]
  },
  {
   "cell_type": "code",
   "execution_count": 89,
   "id": "c64ba729",
   "metadata": {},
   "outputs": [
    {
     "name": "stdout",
     "output_type": "stream",
     "text": [
      "<class 'str'>\n",
      "<class 'tuple'>\n"
     ]
    }
   ],
   "source": [
    "normal = 'simple'\n",
    "error = 'trailing comma',\n",
    "\n",
    "print(type(normal))\n",
    "print(type(error))"
   ]
  },
  {
   "cell_type": "markdown",
   "id": "dc4f9dd1",
   "metadata": {},
   "source": [
    "# SETS(Unique data)"
   ]
  },
  {
   "cell_type": "code",
   "execution_count": 90,
   "id": "7f3887a7",
   "metadata": {},
   "outputs": [],
   "source": [
    "girl_names = {'Shreya','Rewa','Burad','Reeya','Neha','Alisha'}\n",
    "boy_names  = {'Nishant','Pushkar','Tambat','Saurav','Tanishq','Rewa'}"
   ]
  },
  {
   "cell_type": "code",
   "execution_count": 91,
   "id": "ce9df45d",
   "metadata": {},
   "outputs": [
    {
     "data": {
      "text/plain": [
       "{'Alisha',\n",
       " 'Burad',\n",
       " 'Neha',\n",
       " 'Nishant',\n",
       " 'Pushkar',\n",
       " 'Reeya',\n",
       " 'Rewa',\n",
       " 'Saurav',\n",
       " 'Shreya',\n",
       " 'Tambat',\n",
       " 'Tanishq'}"
      ]
     },
     "execution_count": 91,
     "metadata": {},
     "output_type": "execute_result"
    }
   ],
   "source": [
    "#The .union() method returns a set of all the names found in the \n",
    "#set you used the method on plus any sets passed as arguments to the method.\n",
    "\n",
    "all_names = girl_names.union(boy_names)\n",
    "all_names"
   ]
  },
  {
   "cell_type": "code",
   "execution_count": 92,
   "id": "a73b0b7f",
   "metadata": {},
   "outputs": [
    {
     "data": {
      "text/plain": [
       "{'Rewa'}"
      ]
     },
     "execution_count": 92,
     "metadata": {},
     "output_type": "execute_result"
    }
   ],
   "source": [
    "#overlapping data in sets by using the .intersection() method on a set and passing another set as an argument. \n",
    "\n",
    "overlapping_names = girl_names.intersection(boy_names)\n",
    "overlapping_names"
   ]
  },
  {
   "cell_type": "code",
   "execution_count": 93,
   "id": "1c905014",
   "metadata": {},
   "outputs": [],
   "source": [
    "#.add() function used to add stuff"
   ]
  },
  {
   "cell_type": "markdown",
   "id": "c6c76636",
   "metadata": {},
   "source": [
    "# DICTIONARIES"
   ]
  },
  {
   "cell_type": "code",
   "execution_count": 94,
   "id": "8a0336c0",
   "metadata": {},
   "outputs": [],
   "source": [
    "girl_names = {1:'Shreya',2:'Rewa',3:'Burad',4:'Reeya',5:'Neha',6:'Alisha'}\n",
    "boy_names  = {7:'Nishant',8:'Pushkar',9:'Tambat',10:'Saurav',11:'Tanishq',12:'Rewa'}"
   ]
  },
  {
   "cell_type": "code",
   "execution_count": 95,
   "id": "26628a41",
   "metadata": {},
   "outputs": [
    {
     "name": "stdout",
     "output_type": "stream",
     "text": [
      "Alisha\n",
      "Neha\n",
      "Reeya\n",
      "Burad\n",
      "Rewa\n",
      "Shreya\n"
     ]
    }
   ],
   "source": [
    "names_by_rank = {}\n",
    "\n",
    "for rank, name in girl_names.items():\n",
    "    names_by_rank[rank] = name\n",
    "    \n",
    "for rank in sorted(names_by_rank, reverse=True)[:10]:\n",
    "    print(names_by_rank[rank])"
   ]
  },
  {
   "cell_type": "code",
   "execution_count": 96,
   "id": "0adb43f9",
   "metadata": {},
   "outputs": [
    {
     "name": "stdout",
     "output_type": "stream",
     "text": [
      "Reeya\n"
     ]
    }
   ],
   "source": [
    "print(girl_names.get(4))"
   ]
  },
  {
   "cell_type": "code",
   "execution_count": 97,
   "id": "9ca69ada",
   "metadata": {},
   "outputs": [
    {
     "name": "stdout",
     "output_type": "stream",
     "text": [
      "Not Found\n"
     ]
    }
   ],
   "source": [
    "print(girl_names.get(21,'Not Found'))"
   ]
  },
  {
   "cell_type": "code",
   "execution_count": 98,
   "id": "5b26e2f7",
   "metadata": {},
   "outputs": [
    {
     "name": "stdout",
     "output_type": "stream",
     "text": [
      "dict_keys([7, 8, 9, 10, 11, 12])\n"
     ]
    }
   ],
   "source": [
    "print(boy_names.keys())"
   ]
  },
  {
   "cell_type": "code",
   "execution_count": 99,
   "id": "41302dd4",
   "metadata": {},
   "outputs": [
    {
     "data": {
      "text/plain": [
       "'Tambat'"
      ]
     },
     "execution_count": 99,
     "metadata": {},
     "output_type": "execute_result"
    }
   ],
   "source": [
    "boy_names[9]"
   ]
  },
  {
   "cell_type": "code",
   "execution_count": 100,
   "id": "33d1cf66",
   "metadata": {},
   "outputs": [],
   "source": [
    "#.update() method to update a dictionary with keys and values from another dictionary, tuples or keyword arguments."
   ]
  },
  {
   "cell_type": "code",
   "execution_count": 101,
   "id": "4d392e52",
   "metadata": {},
   "outputs": [],
   "source": [
    "girl_names.pop(5)\n",
    "del girl_names[2]"
   ]
  },
  {
   "cell_type": "code",
   "execution_count": 102,
   "id": "fd90cb59",
   "metadata": {},
   "outputs": [
    {
     "data": {
      "text/plain": [
       "{1: 'Shreya', 3: 'Burad', 4: 'Reeya', 6: 'Alisha'}"
      ]
     },
     "execution_count": 102,
     "metadata": {},
     "output_type": "execute_result"
    }
   ],
   "source": [
    "girl_names"
   ]
  },
  {
   "cell_type": "code",
   "execution_count": 103,
   "id": "27644721",
   "metadata": {},
   "outputs": [
    {
     "data": {
      "text/plain": [
       "(12, 'Rewa')"
      ]
     },
     "execution_count": 103,
     "metadata": {},
     "output_type": "execute_result"
    }
   ],
   "source": [
    "boy_names.popitem()"
   ]
  },
  {
   "cell_type": "code",
   "execution_count": 104,
   "id": "214c8f1c",
   "metadata": {},
   "outputs": [
    {
     "name": "stdout",
     "output_type": "stream",
     "text": [
      "7 Nishant\n",
      "8 Pushkar\n",
      "9 Tambat\n",
      "10 Saurav\n",
      "11 Tanishq\n"
     ]
    }
   ],
   "source": [
    "for rank,name in boy_names.items():\n",
    "    print(rank,name)"
   ]
  },
  {
   "cell_type": "code",
   "execution_count": 105,
   "id": "ac9d4293",
   "metadata": {},
   "outputs": [],
   "source": [
    "if 12 in boy_names:\n",
    "    print('BOY?!!')"
   ]
  },
  {
   "cell_type": "markdown",
   "id": "36e6f103",
   "metadata": {},
   "source": [
    "# COUNTER"
   ]
  },
  {
   "cell_type": "code",
   "execution_count": 106,
   "id": "a9bc737e",
   "metadata": {},
   "outputs": [],
   "source": [
    "from collections import Counter"
   ]
  },
  {
   "cell_type": "code",
   "execution_count": 107,
   "id": "da0cf4dc",
   "metadata": {},
   "outputs": [],
   "source": [
    "boyz_names  = ['Nishant','Pushkar','Tambat','Saurav','Tanishq','Rewa','Pushkar','Nishant','Tambat','Pushkar']"
   ]
  },
  {
   "cell_type": "code",
   "execution_count": 108,
   "id": "352e0bfc",
   "metadata": {},
   "outputs": [
    {
     "data": {
      "text/plain": [
       "Counter({'Nishant': 2,\n",
       "         'Pushkar': 3,\n",
       "         'Tambat': 2,\n",
       "         'Saurav': 1,\n",
       "         'Tanishq': 1,\n",
       "         'Rewa': 1})"
      ]
     },
     "execution_count": 108,
     "metadata": {},
     "output_type": "execute_result"
    }
   ],
   "source": [
    "count = Counter(boyz_names)\n",
    "count"
   ]
  },
  {
   "cell_type": "code",
   "execution_count": 113,
   "id": "28beef3f",
   "metadata": {},
   "outputs": [
    {
     "data": {
      "text/plain": [
       "[('Pushkar', 3), ('Nishant', 2)]"
      ]
     },
     "execution_count": 113,
     "metadata": {},
     "output_type": "execute_result"
    }
   ],
   "source": [
    "count.most_common(2)"
   ]
  },
  {
   "cell_type": "markdown",
   "id": "2ad77a8b",
   "metadata": {},
   "source": [
    "# DEFAULTDICT"
   ]
  },
  {
   "cell_type": "code",
   "execution_count": 116,
   "id": "28f71612",
   "metadata": {},
   "outputs": [],
   "source": [
    "#A defaultdict allows you to define what each uninitialized key will contain.(will hold the missing values)\n",
    "#When establishing a defaultdict, you pass it the type you want it to be, such as a list, tuple, set, int, string, dictionary or any other valid type object.\n",
    "\n",
    "#Making a Defaultdict\n",
    "\n",
    "from collections import defaultdict\n",
    "data = defaultdict(list)"
   ]
  },
  {
   "cell_type": "markdown",
   "id": "bc5fd1ff",
   "metadata": {},
   "source": [
    "# NAMEDTUPLE"
   ]
  },
  {
   "cell_type": "code",
   "execution_count": 118,
   "id": "f5835c2c",
   "metadata": {},
   "outputs": [
    {
     "ename": "NameError",
     "evalue": "name 'entries' is not defined",
     "output_type": "error",
     "traceback": [
      "\u001b[1;31m---------------------------------------------------------------------------\u001b[0m",
      "\u001b[1;31mNameError\u001b[0m                                 Traceback (most recent call last)",
      "\u001b[1;32m<ipython-input-118-6487b2e993a8>\u001b[0m in \u001b[0;36m<module>\u001b[1;34m\u001b[0m\n\u001b[0;32m      7\u001b[0m \u001b[0minfo\u001b[0m \u001b[1;33m=\u001b[0m \u001b[1;33m[\u001b[0m\u001b[1;33m]\u001b[0m\u001b[1;33m\u001b[0m\u001b[1;33m\u001b[0m\u001b[0m\n\u001b[0;32m      8\u001b[0m \u001b[1;33m\u001b[0m\u001b[0m\n\u001b[1;32m----> 9\u001b[1;33m \u001b[1;32mfor\u001b[0m \u001b[0mitem\u001b[0m \u001b[1;32min\u001b[0m \u001b[0mentries\u001b[0m\u001b[1;33m:\u001b[0m\u001b[1;33m\u001b[0m\u001b[1;33m\u001b[0m\u001b[0m\n\u001b[0m\u001b[0;32m     10\u001b[0m     \u001b[0mdetails\u001b[0m \u001b[1;33m=\u001b[0m \u001b[0mInformation\u001b[0m\u001b[1;33m(\u001b[0m\u001b[0mitem\u001b[0m\u001b[1;33m[\u001b[0m\u001b[1;34m'name'\u001b[0m\u001b[1;33m]\u001b[0m\u001b[1;33m,\u001b[0m\u001b[0mitem\u001b[0m\u001b[1;33m[\u001b[0m\u001b[1;34m'rollno'\u001b[0m\u001b[1;33m]\u001b[0m\u001b[1;33m,\u001b[0m\u001b[0mitem\u001b[0m\u001b[1;33m[\u001b[0m\u001b[1;34m'location'\u001b[0m\u001b[1;33m]\u001b[0m\u001b[1;33m,\u001b[0m\u001b[0mitem\u001b[0m\u001b[1;33m[\u001b[0m\u001b[1;34m'cellno'\u001b[0m\u001b[1;33m]\u001b[0m\u001b[1;33m)\u001b[0m\u001b[1;33m\u001b[0m\u001b[1;33m\u001b[0m\u001b[0m\n",
      "\u001b[1;31mNameError\u001b[0m: name 'entries' is not defined"
     ]
    }
   ],
   "source": [
    "#Python has another container called a namedtuple that is a tuple, but has names for each position of the tuple.\n",
    "#You create one by passing a name for the tuple type and a list of field names.\n"
   ]
  },
  {
   "cell_type": "code",
   "execution_count": 119,
   "id": "8001ac10",
   "metadata": {},
   "outputs": [
    {
     "ename": "SyntaxError",
     "evalue": "invalid syntax (<ipython-input-119-d4e81f996952>, line 1)",
     "output_type": "error",
     "traceback": [
      "\u001b[1;36m  File \u001b[1;32m\"<ipython-input-119-d4e81f996952>\"\u001b[1;36m, line \u001b[1;32m1\u001b[0m\n\u001b[1;33m    *#\u001b[0m\n\u001b[1;37m     ^\u001b[0m\n\u001b[1;31mSyntaxError\u001b[0m\u001b[1;31m:\u001b[0m invalid syntax\n"
     ]
    }
   ],
   "source": [
    "from collections import namedtuple\n",
    "\n",
    "#Making a namedtuple\n",
    "\n",
    "Information = namedtuple('Information',['name','rollno','location','cellno'])\n",
    "\n",
    "info = []\n",
    "\n",
    "for item in entries:\n",
    "    details = Information(item['name'],item['rollno'],item['location'],item['cellno'])\n",
    "    info.append(details)"
   ]
  }
 ],
 "metadata": {
  "kernelspec": {
   "display_name": "Python 3",
   "language": "python",
   "name": "python3"
  },
  "language_info": {
   "codemirror_mode": {
    "name": "ipython",
    "version": 3
   },
   "file_extension": ".py",
   "mimetype": "text/x-python",
   "name": "python",
   "nbconvert_exporter": "python",
   "pygments_lexer": "ipython3",
   "version": "3.8.8"
  }
 },
 "nbformat": 4,
 "nbformat_minor": 5
}
